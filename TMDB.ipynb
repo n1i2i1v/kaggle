{
 "cells": [
  {
   "cell_type": "code",
   "execution_count": 314,
   "metadata": {},
   "outputs": [],
   "source": [
    "import pandas as pd\n",
    "import ast\n",
    "from sklearn.ensemble import RandomForestRegressor"
   ]
  },
  {
   "cell_type": "code",
   "execution_count": 315,
   "metadata": {},
   "outputs": [],
   "source": [
    "train = pd.read_csv('train.csv')\n",
    "test = pd.read_csv('test.csv')"
   ]
  },
  {
   "cell_type": "code",
   "execution_count": 316,
   "metadata": {},
   "outputs": [],
   "source": [
    "train['has_collection'] = train['belongs_to_collection'].apply(lambda x: 0 if type(x) is float else 1)\n",
    "test['has_collection'] = test['belongs_to_collection'].apply(lambda x: 0 if type(x) is float else 1)"
   ]
  },
  {
   "cell_type": "code",
   "execution_count": 317,
   "metadata": {},
   "outputs": [],
   "source": [
    "train['has_homepage'] = train['homepage'].apply(lambda x: 0 if type(x) is float else 1)\n",
    "test['has_homepage'] = test['homepage'].apply(lambda x: 0 if type(x) is float else 1)"
   ]
  },
  {
   "cell_type": "code",
   "execution_count": 318,
   "metadata": {},
   "outputs": [],
   "source": [
    "train['release_year'] = train['release_date'].apply(lambda x: int(x.split('/')[2]))\n",
    "test['release_date'].fillna('00/00/00', inplace=True)\n",
    "test['release_year'] = test['release_date'].apply(lambda x: int(x.split('/')[2]))\n",
    "train['release_year'] = train['release_year'].apply(lambda x: x+2000 if x<19 else x+1900)\n",
    "test['release_year'] = test['release_year'].apply(lambda x: x+2000 if x<19 else x+1900)"
   ]
  },
  {
   "cell_type": "code",
   "execution_count": 319,
   "metadata": {},
   "outputs": [],
   "source": [
    "train.loc[train[\"genres\"].notnull(),\"genres\"]=train.loc[train[\"genres\"].notnull(),\"genres\"].apply(lambda x : ast.literal_eval(x))\n",
    "train[\"genres\"]=train[\"genres\"].apply(lambda x: x[0]['name'] if type(x) is not float else 'None')\n",
    "test.loc[test[\"genres\"].notnull(),\"genres\"]=test.loc[test[\"genres\"].notnull(),\"genres\"].apply(lambda x : ast.literal_eval(x))\n",
    "test[\"genres\"]=test[\"genres\"].apply(lambda x: x[0]['name'] if type(x) is not float else 'None')\n",
    "train = pd.get_dummies(train, columns = ['genres'])\n",
    "test = pd.get_dummies(test, columns = ['genres'])"
   ]
  },
  {
   "cell_type": "code",
   "execution_count": 320,
   "metadata": {},
   "outputs": [],
   "source": [
    "train['original_language'] = train['original_language'].apply(lambda x: 1 if x== 'en' else 0)\n",
    "test['original_language'] = test['original_language'].apply(lambda x: 1 if x == 'en' else 0);"
   ]
  },
  {
   "cell_type": "code",
   "execution_count": 321,
   "metadata": {},
   "outputs": [],
   "source": [
    "train['original_title'] = (train['title'] == train['original_title'])\n",
    "test['original_title'] = (test['title'] == test['original_title'])"
   ]
  },
  {
   "cell_type": "code",
   "execution_count": 322,
   "metadata": {},
   "outputs": [],
   "source": [
    "train['runtime'].fillna(train['runtime'].mean(), inplace=True);\n",
    "test['runtime'].fillna(train['runtime'].mean(), inplace=True);"
   ]
  },
  {
   "cell_type": "code",
   "execution_count": 323,
   "metadata": {},
   "outputs": [],
   "source": [
    "train.loc[train[\"production_companies\"].notnull(),\"production_companies\"]=train.loc[train[\"production_companies\"].notnull(),\"production_companies\"].apply(lambda x : ast.literal_eval(x))\n",
    "train[\"production_companies_num\"]=train[\"production_companies\"].apply(lambda x: len(x) if type(x) is not float else 0)\n",
    "test.loc[test[\"production_companies\"].notnull(),\"production_companies\"]=test.loc[test[\"production_companies\"].notnull(),\"production_companies\"].apply(lambda x : ast.literal_eval(x))\n",
    "test[\"production_companies_num\"]=test[\"production_companies\"].apply(lambda x: len(x) if type(x) is not float else 0)"
   ]
  },
  {
   "cell_type": "code",
   "execution_count": 324,
   "metadata": {},
   "outputs": [],
   "source": [
    "train.loc[train[\"production_countries\"].notnull(),\"production_countries\"]=train.loc[train[\"production_countries\"].notnull(),\"production_countries\"].apply(lambda x : ast.literal_eval(x))\n",
    "train[\"production_countries_num\"]=train[\"production_countries\"].apply(lambda x: len(x) if type(x) is not float else 0)\n",
    "test.loc[test[\"production_countries\"].notnull(),\"production_countries\"]=test.loc[test[\"production_countries\"].notnull(),\"production_countries\"].apply(lambda x : ast.literal_eval(x))\n",
    "test[\"production_countries_num\"]=test[\"production_countries\"].apply(lambda x: len(x) if type(x) is not float else 0)"
   ]
  },
  {
   "cell_type": "code",
   "execution_count": 325,
   "metadata": {},
   "outputs": [],
   "source": [
    "train[\"production_countries_first\"]=train[\"production_countries\"].apply(lambda x: x[0]['iso_3166_1'] if type(x) is not float else 'None')\n",
    "test[\"production_countries_first\"]=test[\"production_countries\"].apply(lambda x: x[0]['iso_3166_1'] if type(x) is not float else 'None')"
   ]
  },
  {
   "cell_type": "code",
   "execution_count": 326,
   "metadata": {},
   "outputs": [],
   "source": [
    "train.loc[train[\"spoken_languages\"].notnull(),\"spoken_languages\"]=train.loc[train[\"spoken_languages\"].notnull(),\"spoken_languages\"].apply(lambda x : ast.literal_eval(x))\n",
    "train[\"spoken_languages_num\"]=train[\"spoken_languages\"].apply(lambda x: len(x) if type(x) is not float else 0)\n",
    "test.loc[test[\"spoken_languages\"].notnull(),\"spoken_languages\"]=test.loc[test[\"spoken_languages\"].notnull(),\"spoken_languages\"].apply(lambda x : ast.literal_eval(x))\n",
    "test[\"spoken_languages_num\"]=test[\"spoken_languages\"].apply(lambda x: len(x) if type(x) is not float else 0)"
   ]
  },
  {
   "cell_type": "code",
   "execution_count": 327,
   "metadata": {},
   "outputs": [],
   "source": [
    "train['tagline']=train['tagline'].apply(lambda x: 1 if type(x) is not float else 0)\n",
    "test['tagline']=test['tagline'].apply(lambda x: 1 if type(x) is not float else 0)"
   ]
  },
  {
   "cell_type": "code",
   "execution_count": 328,
   "metadata": {},
   "outputs": [],
   "source": [
    "train['title_num']= train['title'].apply(lambda x: sum(train['title']==x))\n",
    "test['title_num']= test['title'].apply(lambda x: sum(test['title']==x) if type(x)is not float else 0)"
   ]
  },
  {
   "cell_type": "code",
   "execution_count": 329,
   "metadata": {},
   "outputs": [],
   "source": [
    "train.loc[train[\"Keywords\"].notnull(),\"Keywords\"]=train.loc[train[\"Keywords\"].notnull(),\"Keywords\"].apply(lambda x : ast.literal_eval(x))\n",
    "train[\"Keywords_num\"]=train[\"Keywords\"].apply(lambda x: len(x) if type(x) is not float else 0)\n",
    "test.loc[test[\"Keywords\"].notnull(),\"Keywords\"]=test.loc[test[\"Keywords\"].notnull(),\"Keywords\"].apply(lambda x : ast.literal_eval(x))\n",
    "test[\"Keywords_num\"]=test[\"Keywords\"].apply(lambda x: len(x) if type(x) is not float else 0)"
   ]
  },
  {
   "cell_type": "code",
   "execution_count": 330,
   "metadata": {},
   "outputs": [],
   "source": [
    "train['revenue'] = np.log(train['revenue'])\n"
   ]
  },
  {
   "cell_type": "code",
   "execution_count": 331,
   "metadata": {},
   "outputs": [],
   "source": [
    "X = train.drop(['belongs_to_collection', 'production_companies', \n",
    "            'production_countries','homepage', 'release_date', 'status', \n",
    "            'spoken_languages', 'title', 'Keywords', 'cast', 'crew', \n",
    "            'revenue', 'production_countries_first','imdb_id', \n",
    "            'poster_path', 'overview', 'genres_TV Movie'], axis=1)\n",
    "y=train['revenue']"
   ]
  },
  {
   "cell_type": "code",
   "execution_count": 332,
   "metadata": {},
   "outputs": [],
   "source": [
    "from sklearn.neighbors import KNeighborsRegressor"
   ]
  },
  {
   "cell_type": "code",
   "execution_count": 333,
   "metadata": {},
   "outputs": [],
   "source": [
    "rf = RandomForestRegressor()"
   ]
  },
  {
   "cell_type": "code",
   "execution_count": 334,
   "metadata": {},
   "outputs": [
    {
     "name": "stderr",
     "output_type": "stream",
     "text": [
      "/Users/hasmikgalstyan/anaconda3/lib/python3.6/site-packages/sklearn/ensemble/forest.py:246: FutureWarning: The default value of n_estimators will change from 10 in version 0.20 to 100 in 0.22.\n",
      "  \"10 in version 0.20 to 100 in 0.22.\", FutureWarning)\n"
     ]
    },
    {
     "data": {
      "text/plain": [
       "RandomForestRegressor(bootstrap=True, criterion='mse', max_depth=None,\n",
       "           max_features='auto', max_leaf_nodes=None,\n",
       "           min_impurity_decrease=0.0, min_impurity_split=None,\n",
       "           min_samples_leaf=1, min_samples_split=2,\n",
       "           min_weight_fraction_leaf=0.0, n_estimators=10, n_jobs=None,\n",
       "           oob_score=False, random_state=None, verbose=0, warm_start=False)"
      ]
     },
     "execution_count": 334,
     "metadata": {},
     "output_type": "execute_result"
    }
   ],
   "source": [
    "rf.fit(X,y)"
   ]
  },
  {
   "cell_type": "code",
   "execution_count": 335,
   "metadata": {},
   "outputs": [],
   "source": [
    "X_test = test.drop(['belongs_to_collection', 'production_companies', \n",
    "                     'production_countries','homepage', 'release_date', 'status', \n",
    "                     'spoken_languages', 'title', 'Keywords', 'cast', 'crew', \n",
    "                     'production_countries_first','imdb_id', \n",
    "                     'poster_path', 'overview'], axis=1)"
   ]
  },
  {
   "cell_type": "code",
   "execution_count": 337,
   "metadata": {},
   "outputs": [],
   "source": [
    "result=rf.predict(X_test)"
   ]
  },
  {
   "cell_type": "code",
   "execution_count": 338,
   "metadata": {},
   "outputs": [],
   "source": [
    "ss = pd.concat([test['id'],pd.Series(np.exp(result),name='revenue')], axis=1)"
   ]
  },
  {
   "cell_type": "code",
   "execution_count": 339,
   "metadata": {},
   "outputs": [],
   "source": [
    "ss.to_csv('sample_submission.csv',index=False,header=True, index_label ='id')"
   ]
  },
  {
   "cell_type": "code",
   "execution_count": null,
   "metadata": {},
   "outputs": [],
   "source": []
  }
 ],
 "metadata": {
  "kernelspec": {
   "display_name": "Python 3",
   "language": "python",
   "name": "python3"
  },
  "language_info": {
   "codemirror_mode": {
    "name": "ipython",
    "version": 3
   },
   "file_extension": ".py",
   "mimetype": "text/x-python",
   "name": "python",
   "nbconvert_exporter": "python",
   "pygments_lexer": "ipython3",
   "version": "3.6.8"
  }
 },
 "nbformat": 4,
 "nbformat_minor": 2
}
