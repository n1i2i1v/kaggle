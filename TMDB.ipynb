{
 "cells": [
  {
   "cell_type": "code",
   "execution_count": 31,
   "metadata": {},
   "outputs": [],
   "source": [
    "import pandas as pd\n",
    "import numpy as np\n",
    "import matplotlib.pyplot as plt\n",
    "import seaborn as sns\n",
    "import ast\n",
    "import json"
   ]
  },
  {
   "cell_type": "code",
   "execution_count": 32,
   "metadata": {},
   "outputs": [],
   "source": [
    "train = pd.read_csv('train.csv')\n",
    "test = pd.read_csv('test.csv')"
   ]
  },
  {
   "cell_type": "code",
   "execution_count": 33,
   "metadata": {},
   "outputs": [],
   "source": [
    "train['has_collection'] = train['belongs_to_collection'].apply(lambda x: 0 if type(x) is float else 1)\n",
    "test['has_collection'] = test['belongs_to_collection'].apply(lambda x: 0 if type(x) is float else 1)"
   ]
  },
  {
   "cell_type": "code",
   "execution_count": 34,
   "metadata": {},
   "outputs": [],
   "source": [
    "train.loc[train[\"budget\"]<10000,\"budget\"]=10000\n",
    "test.loc[test[\"budget\"]<10000,\"budget\"]=10000"
   ]
  },
  {
   "cell_type": "code",
   "execution_count": 35,
   "metadata": {},
   "outputs": [],
   "source": [
    "train.loc[train[\"genres\"].notnull(),\"genres\"]=train.loc[train[\"genres\"].notnull(),\"genres\"].apply(lambda x : ast.literal_eval(x))\n",
    "train[\"genres\"]=train[\"genres\"].apply(lambda x: x[0]['name'] if type(x) is not float else 'None')\n",
    "test.loc[test[\"genres\"].notnull(),\"genres\"]=test.loc[test[\"genres\"].notnull(),\"genres\"].apply(lambda x : ast.literal_eval(x))\n",
    "test[\"genres\"]=test[\"genres\"].apply(lambda x: x[0]['name'] if type(x) is not float else 'None')\n"
   ]
  },
  {
   "cell_type": "code",
   "execution_count": 36,
   "metadata": {},
   "outputs": [],
   "source": [
    "train['has_homepage'] = train['homepage'].apply(lambda x: 0 if type(x) is float else 1)\n",
    "test['has_homepage'] = test['homepage'].apply(lambda x: 0 if type(x) is float else 1)"
   ]
  },
  {
   "cell_type": "code",
   "execution_count": 37,
   "metadata": {},
   "outputs": [],
   "source": [
    "train.drop(['imdb_id','original_title','overview','poster_path','cast','crew'], inplace=True, axis=1)"
   ]
  },
  {
   "cell_type": "code",
   "execution_count": 38,
   "metadata": {},
   "outputs": [],
   "source": [
    "train['release_year'] = train['release_date'].apply(lambda x: x.split('/')[2])\n",
    "test['release_date'].fillna('00/00/00', inplace=True)\n",
    "test['release_year'] = test['release_date'].apply(lambda x: x.split('/')[2])"
   ]
  },
  {
   "cell_type": "code",
   "execution_count": 39,
   "metadata": {},
   "outputs": [
    {
     "data": {
      "text/plain": [
       "str"
      ]
     },
     "execution_count": 39,
     "metadata": {},
     "output_type": "execute_result"
    }
   ],
   "source": [
    "type(train['release_year'][5])"
   ]
  },
  {
   "cell_type": "code",
   "execution_count": 40,
   "metadata": {},
   "outputs": [],
   "source": [
    "train['runtime'].fillna(train['runtime'].mean(), inplace=True);\n",
    "test['runtime'].fillna(train['runtime'].mean(), inplace=True);"
   ]
  },
  {
   "cell_type": "code",
   "execution_count": 41,
   "metadata": {},
   "outputs": [],
   "source": [
    "test['status'].fillna('Released', inplace=True)"
   ]
  },
  {
   "cell_type": "code",
   "execution_count": 42,
   "metadata": {},
   "outputs": [],
   "source": [
    "train.loc[train[\"production_companies\"].notnull(),\"production_companies\"]=train.loc[train[\"production_companies\"].notnull(),\"production_companies\"].apply(lambda x : ast.literal_eval(x))\n",
    "train[\"production_companies_num\"]=train[\"production_companies\"].apply(lambda x: len(x) if type(x) is not float else 0)\n",
    "test.loc[test[\"production_companies\"].notnull(),\"production_companies\"]=test.loc[test[\"production_companies\"].notnull(),\"production_companies\"].apply(lambda x : ast.literal_eval(x))\n",
    "test[\"production_companies_num\"]=test[\"production_companies\"].apply(lambda x: len(x) if type(x) is not float else 0)"
   ]
  },
  {
   "cell_type": "code",
   "execution_count": 43,
   "metadata": {},
   "outputs": [],
   "source": [
    "train.loc[train[\"production_countries\"].notnull(),\"production_countries\"]=train.loc[train[\"production_countries\"].notnull(),\"production_countries\"].apply(lambda x : ast.literal_eval(x))\n",
    "train[\"production_countries_first\"]=train[\"production_countries\"].apply(lambda x: x[0]['iso_3166_1'] if type(x) is not float else 'None')\n",
    "test.loc[test[\"production_countries\"].notnull(),\"production_countries\"]=test.loc[test[\"production_countries\"].notnull(),\"production_countries\"].apply(lambda x : ast.literal_eval(x))\n",
    "test[\"production_countries_first\"]=test[\"production_countries\"].apply(lambda x: x[0]['iso_3166_1'] if type(x) is not float else 'None')"
   ]
  },
  {
   "cell_type": "code",
   "execution_count": 44,
   "metadata": {},
   "outputs": [],
   "source": [
    "train.loc[train[\"spoken_languages\"].notnull(),\"spoken_languages\"]=train.loc[train[\"spoken_languages\"].notnull(),\"spoken_languages\"].apply(lambda x : ast.literal_eval(x))\n",
    "train[\"spoken_languages_num\"]=train[\"spoken_languages\"].apply(lambda x: len(x) if type(x) is not float else 0)\n",
    "test.loc[test[\"spoken_languages\"].notnull(),\"spoken_languages\"]=test.loc[test[\"spoken_languages\"].notnull(),\"spoken_languages\"].apply(lambda x : ast.literal_eval(x))\n",
    "test[\"spoken_languages_num\"]=test[\"spoken_languages\"].apply(lambda x: len(x) if type(x) is not float else 0)"
   ]
  },
  {
   "cell_type": "code",
   "execution_count": 45,
   "metadata": {},
   "outputs": [],
   "source": [
    "train['tagline']=train['tagline'].apply(lambda x: 1 if type(x) is not float else 0)\n",
    "test['tagline']=test['tagline'].apply(lambda x: 1 if type(x) is not float else 0)"
   ]
  },
  {
   "cell_type": "code",
   "execution_count": 46,
   "metadata": {},
   "outputs": [],
   "source": [
    "train['title_num']= train['title'].apply(lambda x: sum(train['title']==x))\n",
    "test['title_num']= test['title'].apply(lambda x: sum(test['title']==x) if type(x)is not float else 0)"
   ]
  },
  {
   "cell_type": "code",
   "execution_count": 47,
   "metadata": {},
   "outputs": [],
   "source": [
    "train.loc[train[\"Keywords\"].notnull(),\"Keywords\"]=train.loc[train[\"Keywords\"].notnull(),\"Keywords\"].apply(lambda x : ast.literal_eval(x))\n",
    "train[\"Keywords_num\"]=train[\"Keywords\"].apply(lambda x: len(x) if type(x) is not float else 0)\n",
    "test.loc[test[\"Keywords\"].notnull(),\"Keywords\"]=test.loc[test[\"Keywords\"].notnull(),\"Keywords\"].apply(lambda x : ast.literal_eval(x))\n",
    "test[\"Keywords_num\"]=test[\"Keywords\"].apply(lambda x: len(x) if type(x) is not float else 0)"
   ]
  },
  {
   "cell_type": "code",
   "execution_count": 48,
   "metadata": {},
   "outputs": [],
   "source": [
    "X=train[['has_collection','has_homepage','budget', 'has_homepage', 'release_year', \n",
    "         'popularity','production_companies_num','runtime','spoken_languages_num','title_num' ]]\n",
    "y=train['revenue']\n"
   ]
  },
  {
   "cell_type": "code",
   "execution_count": 49,
   "metadata": {},
   "outputs": [],
   "source": [
    "from sklearn.neighbors import KNeighborsRegressor"
   ]
  },
  {
   "cell_type": "code",
   "execution_count": 50,
   "metadata": {},
   "outputs": [],
   "source": [
    "knn = KNeighborsRegressor()"
   ]
  },
  {
   "cell_type": "code",
   "execution_count": 51,
   "metadata": {},
   "outputs": [
    {
     "data": {
      "text/plain": [
       "KNeighborsRegressor(algorithm='auto', leaf_size=30, metric='minkowski',\n",
       "          metric_params=None, n_jobs=None, n_neighbors=5, p=2,\n",
       "          weights='uniform')"
      ]
     },
     "execution_count": 51,
     "metadata": {},
     "output_type": "execute_result"
    }
   ],
   "source": [
    "knn.fit(X,y)"
   ]
  },
  {
   "cell_type": "code",
   "execution_count": 52,
   "metadata": {},
   "outputs": [],
   "source": [
    "X_test=test[['has_collection','has_homepage','budget', 'has_homepage', 'release_year', \n",
    "         'popularity','production_companies_num','runtime','spoken_languages_num','title_num' ]]"
   ]
  },
  {
   "cell_type": "code",
   "execution_count": 53,
   "metadata": {},
   "outputs": [],
   "source": [
    "result=knn.predict(X_test)"
   ]
  },
  {
   "cell_type": "code",
   "execution_count": 54,
   "metadata": {},
   "outputs": [],
   "source": [
    "ss = pd.concat([test['id'],pd.Series(result,name='revenue')], axis=1)"
   ]
  },
  {
   "cell_type": "code",
   "execution_count": 67,
   "metadata": {},
   "outputs": [],
   "source": [
    "ss.to_csv('sample_submission.csv',index=False,header=True, index_label ='id').set_index('id')"
   ]
  },
  {
   "cell_type": "code",
   "execution_count": 69,
   "metadata": {},
   "outputs": [],
   "source": [
    "#df = pd.read_csv('sample_submission.csv')"
   ]
  },
  {
   "cell_type": "code",
   "execution_count": 70,
   "metadata": {},
   "outputs": [
    {
     "data": {
      "text/html": [
       "<div>\n",
       "<style scoped>\n",
       "    .dataframe tbody tr th:only-of-type {\n",
       "        vertical-align: middle;\n",
       "    }\n",
       "\n",
       "    .dataframe tbody tr th {\n",
       "        vertical-align: top;\n",
       "    }\n",
       "\n",
       "    .dataframe thead th {\n",
       "        text-align: right;\n",
       "    }\n",
       "</style>\n",
       "<table border=\"1\" class=\"dataframe\">\n",
       "  <thead>\n",
       "    <tr style=\"text-align: right;\">\n",
       "      <th></th>\n",
       "      <th>revenue</th>\n",
       "    </tr>\n",
       "    <tr>\n",
       "      <th>id</th>\n",
       "      <th></th>\n",
       "    </tr>\n",
       "  </thead>\n",
       "  <tbody>\n",
       "    <tr>\n",
       "      <th>3001</th>\n",
       "      <td>8628215.4</td>\n",
       "    </tr>\n",
       "    <tr>\n",
       "      <th>3002</th>\n",
       "      <td>7888819.6</td>\n",
       "    </tr>\n",
       "    <tr>\n",
       "      <th>3003</th>\n",
       "      <td>9391409.6</td>\n",
       "    </tr>\n",
       "    <tr>\n",
       "      <th>3004</th>\n",
       "      <td>16540045.8</td>\n",
       "    </tr>\n",
       "    <tr>\n",
       "      <th>3005</th>\n",
       "      <td>230206.2</td>\n",
       "    </tr>\n",
       "    <tr>\n",
       "      <th>3006</th>\n",
       "      <td>18952995.0</td>\n",
       "    </tr>\n",
       "    <tr>\n",
       "      <th>3007</th>\n",
       "      <td>11559185.6</td>\n",
       "    </tr>\n",
       "    <tr>\n",
       "      <th>3008</th>\n",
       "      <td>73342795.0</td>\n",
       "    </tr>\n",
       "    <tr>\n",
       "      <th>3009</th>\n",
       "      <td>89362240.2</td>\n",
       "    </tr>\n",
       "    <tr>\n",
       "      <th>3010</th>\n",
       "      <td>192161989.4</td>\n",
       "    </tr>\n",
       "    <tr>\n",
       "      <th>3011</th>\n",
       "      <td>230206.2</td>\n",
       "    </tr>\n",
       "    <tr>\n",
       "      <th>3012</th>\n",
       "      <td>4574060.2</td>\n",
       "    </tr>\n",
       "    <tr>\n",
       "      <th>3013</th>\n",
       "      <td>31711311.2</td>\n",
       "    </tr>\n",
       "    <tr>\n",
       "      <th>3014</th>\n",
       "      <td>2134688.4</td>\n",
       "    </tr>\n",
       "    <tr>\n",
       "      <th>3015</th>\n",
       "      <td>29009340.2</td>\n",
       "    </tr>\n",
       "    <tr>\n",
       "      <th>3016</th>\n",
       "      <td>21058668.4</td>\n",
       "    </tr>\n",
       "    <tr>\n",
       "      <th>3017</th>\n",
       "      <td>116113780.4</td>\n",
       "    </tr>\n",
       "    <tr>\n",
       "      <th>3018</th>\n",
       "      <td>122297607.0</td>\n",
       "    </tr>\n",
       "    <tr>\n",
       "      <th>3019</th>\n",
       "      <td>53497387.4</td>\n",
       "    </tr>\n",
       "    <tr>\n",
       "      <th>3020</th>\n",
       "      <td>627659846.6</td>\n",
       "    </tr>\n",
       "    <tr>\n",
       "      <th>3021</th>\n",
       "      <td>26162303.8</td>\n",
       "    </tr>\n",
       "    <tr>\n",
       "      <th>3022</th>\n",
       "      <td>43409476.8</td>\n",
       "    </tr>\n",
       "    <tr>\n",
       "      <th>3023</th>\n",
       "      <td>6926098.6</td>\n",
       "    </tr>\n",
       "    <tr>\n",
       "      <th>3024</th>\n",
       "      <td>70388780.4</td>\n",
       "    </tr>\n",
       "    <tr>\n",
       "      <th>3025</th>\n",
       "      <td>93513.4</td>\n",
       "    </tr>\n",
       "    <tr>\n",
       "      <th>3026</th>\n",
       "      <td>53542487.6</td>\n",
       "    </tr>\n",
       "    <tr>\n",
       "      <th>3027</th>\n",
       "      <td>14590116.6</td>\n",
       "    </tr>\n",
       "    <tr>\n",
       "      <th>3028</th>\n",
       "      <td>116004217.2</td>\n",
       "    </tr>\n",
       "    <tr>\n",
       "      <th>3029</th>\n",
       "      <td>1287604.8</td>\n",
       "    </tr>\n",
       "    <tr>\n",
       "      <th>3030</th>\n",
       "      <td>78055650.8</td>\n",
       "    </tr>\n",
       "    <tr>\n",
       "      <th>...</th>\n",
       "      <td>...</td>\n",
       "    </tr>\n",
       "    <tr>\n",
       "      <th>7369</th>\n",
       "      <td>32545942.0</td>\n",
       "    </tr>\n",
       "    <tr>\n",
       "      <th>7370</th>\n",
       "      <td>66584164.8</td>\n",
       "    </tr>\n",
       "    <tr>\n",
       "      <th>7371</th>\n",
       "      <td>1211295.2</td>\n",
       "    </tr>\n",
       "    <tr>\n",
       "      <th>7372</th>\n",
       "      <td>166130652.8</td>\n",
       "    </tr>\n",
       "    <tr>\n",
       "      <th>7373</th>\n",
       "      <td>541910182.0</td>\n",
       "    </tr>\n",
       "    <tr>\n",
       "      <th>7374</th>\n",
       "      <td>13800754.4</td>\n",
       "    </tr>\n",
       "    <tr>\n",
       "      <th>7375</th>\n",
       "      <td>30488218.6</td>\n",
       "    </tr>\n",
       "    <tr>\n",
       "      <th>7376</th>\n",
       "      <td>1497987.4</td>\n",
       "    </tr>\n",
       "    <tr>\n",
       "      <th>7377</th>\n",
       "      <td>13789284.0</td>\n",
       "    </tr>\n",
       "    <tr>\n",
       "      <th>7378</th>\n",
       "      <td>45036706.6</td>\n",
       "    </tr>\n",
       "    <tr>\n",
       "      <th>7379</th>\n",
       "      <td>78105370.6</td>\n",
       "    </tr>\n",
       "    <tr>\n",
       "      <th>7380</th>\n",
       "      <td>1120296.4</td>\n",
       "    </tr>\n",
       "    <tr>\n",
       "      <th>7381</th>\n",
       "      <td>248778.0</td>\n",
       "    </tr>\n",
       "    <tr>\n",
       "      <th>7382</th>\n",
       "      <td>1768055.8</td>\n",
       "    </tr>\n",
       "    <tr>\n",
       "      <th>7383</th>\n",
       "      <td>2134688.4</td>\n",
       "    </tr>\n",
       "    <tr>\n",
       "      <th>7384</th>\n",
       "      <td>11630955.0</td>\n",
       "    </tr>\n",
       "    <tr>\n",
       "      <th>7385</th>\n",
       "      <td>148957420.0</td>\n",
       "    </tr>\n",
       "    <tr>\n",
       "      <th>7386</th>\n",
       "      <td>46993693.6</td>\n",
       "    </tr>\n",
       "    <tr>\n",
       "      <th>7387</th>\n",
       "      <td>11674738.4</td>\n",
       "    </tr>\n",
       "    <tr>\n",
       "      <th>7388</th>\n",
       "      <td>692071.4</td>\n",
       "    </tr>\n",
       "    <tr>\n",
       "      <th>7389</th>\n",
       "      <td>13374879.8</td>\n",
       "    </tr>\n",
       "    <tr>\n",
       "      <th>7390</th>\n",
       "      <td>5169691.2</td>\n",
       "    </tr>\n",
       "    <tr>\n",
       "      <th>7391</th>\n",
       "      <td>33486336.2</td>\n",
       "    </tr>\n",
       "    <tr>\n",
       "      <th>7392</th>\n",
       "      <td>20099319.6</td>\n",
       "    </tr>\n",
       "    <tr>\n",
       "      <th>7393</th>\n",
       "      <td>560039486.4</td>\n",
       "    </tr>\n",
       "    <tr>\n",
       "      <th>7394</th>\n",
       "      <td>78105370.6</td>\n",
       "    </tr>\n",
       "    <tr>\n",
       "      <th>7395</th>\n",
       "      <td>96363763.0</td>\n",
       "    </tr>\n",
       "    <tr>\n",
       "      <th>7396</th>\n",
       "      <td>30488218.6</td>\n",
       "    </tr>\n",
       "    <tr>\n",
       "      <th>7397</th>\n",
       "      <td>6040044.2</td>\n",
       "    </tr>\n",
       "    <tr>\n",
       "      <th>7398</th>\n",
       "      <td>50412741.6</td>\n",
       "    </tr>\n",
       "  </tbody>\n",
       "</table>\n",
       "<p>4398 rows × 1 columns</p>\n",
       "</div>"
      ],
      "text/plain": [
       "          revenue\n",
       "id               \n",
       "3001    8628215.4\n",
       "3002    7888819.6\n",
       "3003    9391409.6\n",
       "3004   16540045.8\n",
       "3005     230206.2\n",
       "3006   18952995.0\n",
       "3007   11559185.6\n",
       "3008   73342795.0\n",
       "3009   89362240.2\n",
       "3010  192161989.4\n",
       "3011     230206.2\n",
       "3012    4574060.2\n",
       "3013   31711311.2\n",
       "3014    2134688.4\n",
       "3015   29009340.2\n",
       "3016   21058668.4\n",
       "3017  116113780.4\n",
       "3018  122297607.0\n",
       "3019   53497387.4\n",
       "3020  627659846.6\n",
       "3021   26162303.8\n",
       "3022   43409476.8\n",
       "3023    6926098.6\n",
       "3024   70388780.4\n",
       "3025      93513.4\n",
       "3026   53542487.6\n",
       "3027   14590116.6\n",
       "3028  116004217.2\n",
       "3029    1287604.8\n",
       "3030   78055650.8\n",
       "...           ...\n",
       "7369   32545942.0\n",
       "7370   66584164.8\n",
       "7371    1211295.2\n",
       "7372  166130652.8\n",
       "7373  541910182.0\n",
       "7374   13800754.4\n",
       "7375   30488218.6\n",
       "7376    1497987.4\n",
       "7377   13789284.0\n",
       "7378   45036706.6\n",
       "7379   78105370.6\n",
       "7380    1120296.4\n",
       "7381     248778.0\n",
       "7382    1768055.8\n",
       "7383    2134688.4\n",
       "7384   11630955.0\n",
       "7385  148957420.0\n",
       "7386   46993693.6\n",
       "7387   11674738.4\n",
       "7388     692071.4\n",
       "7389   13374879.8\n",
       "7390    5169691.2\n",
       "7391   33486336.2\n",
       "7392   20099319.6\n",
       "7393  560039486.4\n",
       "7394   78105370.6\n",
       "7395   96363763.0\n",
       "7396   30488218.6\n",
       "7397    6040044.2\n",
       "7398   50412741.6\n",
       "\n",
       "[4398 rows x 1 columns]"
      ]
     },
     "execution_count": 70,
     "metadata": {},
     "output_type": "execute_result"
    }
   ],
   "source": [
    "df.set_index('id')"
   ]
  },
  {
   "cell_type": "code",
   "execution_count": null,
   "metadata": {},
   "outputs": [],
   "source": []
  }
 ],
 "metadata": {
  "kernelspec": {
   "display_name": "Python 3",
   "language": "python",
   "name": "python3"
  },
  "language_info": {
   "codemirror_mode": {
    "name": "ipython",
    "version": 3
   },
   "file_extension": ".py",
   "mimetype": "text/x-python",
   "name": "python",
   "nbconvert_exporter": "python",
   "pygments_lexer": "ipython3",
   "version": "3.6.8"
  }
 },
 "nbformat": 4,
 "nbformat_minor": 2
}
